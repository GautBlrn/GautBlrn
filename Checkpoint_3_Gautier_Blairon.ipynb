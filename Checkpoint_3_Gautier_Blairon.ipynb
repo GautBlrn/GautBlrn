{
  "nbformat": 4,
  "nbformat_minor": 0,
  "metadata": {
    "colab": {
      "provenance": [],
      "collapsed_sections": [
        "QXHFEa5IshS6",
        "A0sUu16HuoZT",
        "nH8DqL2g2ra9",
        "HOjlYqiuPfdy"
      ]
    },
    "kernelspec": {
      "name": "python3",
      "display_name": "Python 3"
    },
    "accelerator": "GPU"
  },
  "cells": [
    {
      "cell_type": "markdown",
      "metadata": {
        "id": "QXHFEa5IshS6"
      },
      "source": [
        "# Scraping\n",
        "\n",
        "Dans cette partie tu vas devoir scraper les titres de tous les articles de qualité de la partie en français de Wikipédia. Tu vas donc devoir scraper de **1 000 kilomètres de Spa 2009** à **Zortziko**. Tu en feras un dataframe avec les colonnes suivantes :\n",
        "- ID : Nombre\n",
        "- Titre de l'article : Objet\n",
        "- URL de l'article : Objet\n",
        "- Lu ou pas lu : Booléen\n",
        "\n",
        "N'oublie pas de nettoyer les doublons si tu en as dans ton scraping.\n",
        "\n",
        "Lien vers la 1ère page à scraper : https://fr.wikipedia.org/wiki/Cat%C3%A9gorie:Article_de_qualit%C3%A9"
      ]
    },
    {
      "cell_type": "code",
      "metadata": {
        "id": "EEMrfmcwsfVb",
        "outputId": "ba7b237d-7a3b-438f-9548-73f12f3b4895",
        "colab": {
          "base_uri": "https://localhost:8080/",
          "height": 476
        }
      },
      "source": [
        "from urllib.request import urlopen\n",
        "from bs4 import BeautifulSoup\n",
        "ID_article = 0\n",
        "ID = []\n",
        "titre_article = []\n",
        "url_article = []\n",
        "lu = []\n",
        "page = ['0', 'A', 'B', 'C', 'D', 'E', 'F', 'G', 'H', 'I', 'J', 'K', 'L', 'M', 'N', 'O', 'P', 'Q', 'R', 'S', 'T', 'U', 'V', 'W', 'X', 'Y', 'Z']\n",
        "\n",
        "for lettre in page:\n",
        "  url = 'https://fr.wikipedia.org/w/index.php?title=Cat%C3%A9gorie:Article_de_qualit%C3%A9&from={}'.format(lettre)\n",
        "  html = urlopen(url).read()\n",
        "  soup = BeautifulSoup(html)\n",
        "\n",
        "  groupe = soup.find('div', attrs={\"class\":u\"mw-category-group\"})\n",
        "  anchors = groupe.find_all('a')\n",
        "  for i in anchors:\n",
        "    titre_article.append(i.text)\n",
        "    url_article.append(i.get('href'))\n",
        "    ID.append(ID_article)\n",
        "    ID_article += 1\n",
        "\n",
        "  print('{} terminé'.format(lettre))"
      ],
      "execution_count": null,
      "outputs": [
        {
          "output_type": "stream",
          "text": [
            "0 terminé\n",
            "A terminé\n",
            "B terminé\n",
            "C terminé\n",
            "D terminé\n",
            "E terminé\n",
            "F terminé\n",
            "G terminé\n",
            "H terminé\n",
            "I terminé\n",
            "J terminé\n",
            "K terminé\n",
            "L terminé\n",
            "M terminé\n",
            "N terminé\n",
            "O terminé\n",
            "P terminé\n",
            "Q terminé\n",
            "R terminé\n",
            "S terminé\n",
            "T terminé\n",
            "U terminé\n",
            "V terminé\n",
            "W terminé\n",
            "X terminé\n",
            "Y terminé\n",
            "Z terminé\n"
          ],
          "name": "stdout"
        }
      ]
    },
    {
      "cell_type": "code",
      "metadata": {
        "id": "HTul4l56tf2g",
        "outputId": "ebbae0e1-859f-46e7-d5df-3a3eaae02478",
        "colab": {
          "base_uri": "https://localhost:8080/",
          "height": 419
        }
      },
      "source": [
        "import pandas as pd\n",
        "\n",
        "dict = {\"ID\": ID, \"Titre de l'article\": titre_article, \"URL de l'article\": url_article}\n",
        "\n",
        "df = pd.DataFrame(dict)\n",
        "\n",
        "df"
      ],
      "execution_count": null,
      "outputs": [
        {
          "output_type": "execute_result",
          "data": {
            "text/html": [
              "<div>\n",
              "<style scoped>\n",
              "    .dataframe tbody tr th:only-of-type {\n",
              "        vertical-align: middle;\n",
              "    }\n",
              "\n",
              "    .dataframe tbody tr th {\n",
              "        vertical-align: top;\n",
              "    }\n",
              "\n",
              "    .dataframe thead th {\n",
              "        text-align: right;\n",
              "    }\n",
              "</style>\n",
              "<table border=\"1\" class=\"dataframe\">\n",
              "  <thead>\n",
              "    <tr style=\"text-align: right;\">\n",
              "      <th></th>\n",
              "      <th>ID</th>\n",
              "      <th>Titre de l'article</th>\n",
              "      <th>URL de l'article</th>\n",
              "    </tr>\n",
              "  </thead>\n",
              "  <tbody>\n",
              "    <tr>\n",
              "      <th>0</th>\n",
              "      <td>0</td>\n",
              "      <td>1 000 kilomètres de Spa 2009</td>\n",
              "      <td>/wiki/1_000_kilom%C3%A8tres_de_Spa_2009</td>\n",
              "    </tr>\n",
              "    <tr>\n",
              "      <th>1</th>\n",
              "      <td>1</td>\n",
              "      <td>6 Heures du Castellet 2011</td>\n",
              "      <td>/wiki/6_Heures_du_Castellet_2011</td>\n",
              "    </tr>\n",
              "    <tr>\n",
              "      <th>2</th>\n",
              "      <td>2</td>\n",
              "      <td>32X</td>\n",
              "      <td>/wiki/32X</td>\n",
              "    </tr>\n",
              "    <tr>\n",
              "      <th>3</th>\n",
              "      <td>3</td>\n",
              "      <td>Les 101 Dalmatiens (film, 1961)</td>\n",
              "      <td>/wiki/Les_101_Dalmatiens_(film,_1961)</td>\n",
              "    </tr>\n",
              "    <tr>\n",
              "      <th>4</th>\n",
              "      <td>4</td>\n",
              "      <td>A Hard Day's Night (album)</td>\n",
              "      <td>/wiki/A_Hard_Day%27s_Night_(album)</td>\n",
              "    </tr>\n",
              "    <tr>\n",
              "      <th>...</th>\n",
              "      <td>...</td>\n",
              "      <td>...</td>\n",
              "      <td>...</td>\n",
              "    </tr>\n",
              "    <tr>\n",
              "      <th>1818</th>\n",
              "      <td>1818</td>\n",
              "      <td>Zhou Enlai</td>\n",
              "      <td>/wiki/Zhou_Enlai</td>\n",
              "    </tr>\n",
              "    <tr>\n",
              "      <th>1819</th>\n",
              "      <td>1819</td>\n",
              "      <td>Muhammad Zia-ul-Haq</td>\n",
              "      <td>/wiki/Muhammad_Zia-ul-Haq</td>\n",
              "    </tr>\n",
              "    <tr>\n",
              "      <th>1820</th>\n",
              "      <td>1820</td>\n",
              "      <td>Parc national de Zion</td>\n",
              "      <td>/wiki/Parc_national_de_Zion</td>\n",
              "    </tr>\n",
              "    <tr>\n",
              "      <th>1821</th>\n",
              "      <td>1821</td>\n",
              "      <td>Émile Zola</td>\n",
              "      <td>/wiki/%C3%89mile_Zola</td>\n",
              "    </tr>\n",
              "    <tr>\n",
              "      <th>1822</th>\n",
              "      <td>1822</td>\n",
              "      <td>Zortziko</td>\n",
              "      <td>/wiki/Zortziko</td>\n",
              "    </tr>\n",
              "  </tbody>\n",
              "</table>\n",
              "<p>1823 rows × 3 columns</p>\n",
              "</div>"
            ],
            "text/plain": [
              "        ID  ...                         URL de l'article\n",
              "0        0  ...  /wiki/1_000_kilom%C3%A8tres_de_Spa_2009\n",
              "1        1  ...         /wiki/6_Heures_du_Castellet_2011\n",
              "2        2  ...                                /wiki/32X\n",
              "3        3  ...    /wiki/Les_101_Dalmatiens_(film,_1961)\n",
              "4        4  ...       /wiki/A_Hard_Day%27s_Night_(album)\n",
              "...    ...  ...                                      ...\n",
              "1818  1818  ...                         /wiki/Zhou_Enlai\n",
              "1819  1819  ...                /wiki/Muhammad_Zia-ul-Haq\n",
              "1820  1820  ...              /wiki/Parc_national_de_Zion\n",
              "1821  1821  ...                    /wiki/%C3%89mile_Zola\n",
              "1822  1822  ...                           /wiki/Zortziko\n",
              "\n",
              "[1823 rows x 3 columns]"
            ]
          },
          "metadata": {
            "tags": []
          },
          "execution_count": 9
        }
      ]
    },
    {
      "cell_type": "code",
      "metadata": {
        "id": "jZxNssFcuwbI",
        "outputId": "6205a38e-eb98-4e2c-8246-38a7c0a7c470",
        "colab": {
          "base_uri": "https://localhost:8080/",
          "height": 34
        }
      },
      "source": [
        "df.duplicated().sum()"
      ],
      "execution_count": null,
      "outputs": [
        {
          "output_type": "execute_result",
          "data": {
            "text/plain": [
              "0"
            ]
          },
          "metadata": {
            "tags": []
          },
          "execution_count": 12
        }
      ]
    },
    {
      "cell_type": "markdown",
      "metadata": {
        "id": "A0sUu16HuoZT"
      },
      "source": [
        "# KNIME\n",
        "\n",
        "POur valider cette quête tu vas simplement devoir suivre un tuto de KNIME TV et prouver que tu as obtenu un output similaire grâce à une image.\n",
        "\n",
        "Lien vers le tuto : https://www.youtube.com/watch?v=WdwPOH1C8W0&\n",
        "\n",
        "Explication du random forest : https://www.youtube.com/watch?v=X4H7w6LDgYM"
      ]
    },
    {
      "cell_type": "markdown",
      "metadata": {
        "id": "PS3LRXurzDkn"
      },
      "source": [
        "*https://drive.google.com/file/d/1sNl6qAcWavTJi4WVS5mNqhJKzKtwj9ue/view?usp=sharing*"
      ]
    },
    {
      "cell_type": "markdown",
      "metadata": {
        "id": "nH8DqL2g2ra9"
      },
      "source": [
        "# Dashboard avec un outil BI (Power BI ou Tableau)\n",
        "\n",
        "Créer un dashabord qui montre la répartition des **Filières très agrégées** (voir dataset) en fonction de la **localisation (Départements, Académies, Régions)** pour l'année 2017 uniquement. Tu partageras le lien vers ta visualisation.\n",
        "\n",
        "Lien vers le dataset : https://www.data.gouv.fr/fr/datasets/apb-voeux-de-poursuite-detude-et-admissions/"
      ]
    },
    {
      "cell_type": "markdown",
      "metadata": {
        "id": "rg1rc4z60z0H"
      },
      "source": [
        "*https://drive.google.com/file/d/1wro-XGc4nbe8NNS6dJeJ5gdgwPWDxyfn/view?usp=sharing*"
      ]
    },
    {
      "cell_type": "markdown",
      "metadata": {
        "id": "HOjlYqiuPfdy"
      },
      "source": [
        "# Google Analytics\n",
        "\n",
        "Tu dois répondre aux questions du Google Forms ci-après : https://docs.google.com/forms/d/e/1FAIpQLScN167SI5tXxU9hOolUZ5KTFAfb5FDsg4nxQjpF7BkgTAPwlg/viewform?usp=sf_link"
      ]
    },
    {
      "cell_type": "markdown",
      "metadata": {
        "id": "-Z67GXZW0v7b"
      },
      "source": [
        "*https://drive.google.com/file/d/1sNl6qAcWavTJi4WVS5mNqhJKzKtwj9ue/view?usp=sharing*"
      ]
    }
  ]
}